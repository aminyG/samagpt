{
  "nbformat": 4,
  "nbformat_minor": 0,
  "metadata": {
    "colab": {
      "provenance": [],
      "authorship_tag": "ABX9TyORxE2E9l9DkaN5oyVwG5Tx",
      "include_colab_link": true
    },
    "kernelspec": {
      "name": "python3",
      "display_name": "Python 3"
    },
    "language_info": {
      "name": "python"
    }
  },
  "cells": [
    {
      "cell_type": "markdown",
      "metadata": {
        "id": "view-in-github",
        "colab_type": "text"
      },
      "source": [
        "<a href=\"https://colab.research.google.com/github/aminyG/samagpt/blob/main/weatherAppnChatBox.ipynb\" target=\"_parent\"><img src=\"https://colab.research.google.com/assets/colab-badge.svg\" alt=\"Open In Colab\"/></a>"
      ]
    },
    {
      "cell_type": "markdown",
      "source": [
        "A weather app that can provide weather information for multiple locations. It uses an API to fetch the weather data and displays it in a user-friendly format. It also includes the ability to save favorite locations and view their weather information with just one click."
      ],
      "metadata": {
        "id": "wMoV8A3licpA"
      }
    },
    {
      "cell_type": "code",
      "execution_count": 1,
      "metadata": {
        "colab": {
          "base_uri": "https://localhost:8080/",
          "height": 131
        },
        "id": "ybrQRmoQh70q",
        "outputId": "7134a809-d2c8-48a6-f79e-90c9df551421"
      },
      "outputs": [
        {
          "output_type": "error",
          "ename": "SyntaxError",
          "evalue": "ignored",
          "traceback": [
            "\u001b[0;36m  File \u001b[0;32m\"<ipython-input-1-3bafa21bf93b>\"\u001b[0;36m, line \u001b[0;32m76\u001b[0m\n\u001b[0;31m    elif command\u001b[0m\n\u001b[0m                ^\u001b[0m\n\u001b[0;31mSyntaxError\u001b[0m\u001b[0;31m:\u001b[0m invalid syntax\n"
          ]
        }
      ],
      "source": [
        "import requests\n",
        "\n",
        "class WeatherApp:\n",
        "    def __init__(self):\n",
        "        self.api_key = 'YOUR_API_KEY' # Replace with your API key\n",
        "        self.base_url = 'http://api.openweathermap.org/data/2.5/weather?q={},{}&units=metric&appid=' + self.api_key\n",
        "        self.favorite_locations = []\n",
        "    \n",
        "    def get_weather_data(self, city, country_code):\n",
        "        url = self.base_url.format(city, country_code)\n",
        "        response = requests.get(url)\n",
        "        if response.status_code == 200:\n",
        "            return response.json()\n",
        "        else:\n",
        "            return None\n",
        "    \n",
        "    def display_weather_data(self, weather_data):\n",
        "        if weather_data is None:\n",
        "            print(\"Error: Could not fetch weather data.\")\n",
        "        else:\n",
        "            print(\"City:\", weather_data['name'])\n",
        "            print(\"Temperature:\", weather_data['main']['temp'], \"°C\")\n",
        "            print(\"Description:\", weather_data['weather'][0]['description'])\n",
        "            print(\"Humidity:\", weather_data['main']['humidity'], \"%\")\n",
        "            print(\"Wind speed:\", weather_data['wind']['speed'], \"m/s\")\n",
        "    \n",
        "    def add_favorite_location(self, city, country_code):\n",
        "        if [city, country_code] not in self.favorite_locations:\n",
        "            self.favorite_locations.append([city, country_code])\n",
        "            print(f\"{city}, {country_code} has been added to favorites.\")\n",
        "        else:\n",
        "            print(f\"{city}, {country_code} is already in favorites.\")\n",
        "    \n",
        "    def remove_favorite_location(self, city, country_code):\n",
        "        if [city, country_code] in self.favorite_locations:\n",
        "            self.favorite_locations.remove([city, country_code])\n",
        "            print(f\"{city}, {country_code} has been removed from favorites.\")\n",
        "        else:\n",
        "            print(f\"{city}, {country_code} is not in favorites.\")\n",
        "    \n",
        "    def view_favorite_locations(self):\n",
        "        if len(self.favorite_locations) == 0:\n",
        "            print(\"No favorite locations found.\")\n",
        "        else:\n",
        "            print(\"Favorite Locations:\")\n",
        "            for i, location in enumerate(self.favorite_locations):\n",
        "                print(f\"{i+1}. {location[0]}, {location[1]}\")\n",
        "    \n",
        "    def view_favorite_location_weather(self, location_index):\n",
        "        if location_index < 1 or location_index > len(self.favorite_locations):\n",
        "            print(\"Error: Invalid location index.\")\n",
        "        else:\n",
        "            location = self.favorite_locations[location_index-1]\n",
        "            weather_data = self.get_weather_data(location[0], location[1])\n",
        "            self.display_weather_data(weather_data)\n",
        "\n",
        "app = WeatherApp()\n",
        "\n",
        "print(\"Welcome to the Weather App!\")\n",
        "print(\"Type 'help' for a list of commands.\")\n",
        "\n",
        "while True:\n",
        "    command = input(\"> \").strip().lower()\n",
        "    if command == 'help':\n",
        "        print(\"Available commands:\")\n",
        "        print(\"weather <city> <country code> - Get weather data for a location\")\n",
        "        print(\"add <city> <country code> - Add a location to favorites\")\n",
        "        print(\"remove <city> <country code> - Remove a location from favorites\")\n",
        "        print(\"favorites - View favorite locations\")\n",
        "        print(\"view <location index> - View weather data for a favorite location\")\n",
        "        print(\"quit - Quit the app\")\n",
        "    elif command.startswith('weather '):\n",
        "        _, city, country_code = command.split()\n",
        "        weather_data = app.get_weather_data(city, country_code)\n",
        "        app.display_weather_data(weather_data)\n",
        "    elif command\n"
      ]
    },
    {
      "cell_type": "markdown",
      "source": [
        "# Chat bot\n",
        "Create a chatbot that can converse with users and perform certain tasks based on user input. The chatbot should be able to understand natural language and respond appropriately, and it should be able to perform a variety of functions based on user requests. Here are some potential features the chatbot could have:\n",
        "\n",
        "Weather forecasting: The chatbot can tell users the current weather conditions or provide a forecast for a specific location.\n",
        "News aggregation: The chatbot can provide users with the latest news on a particular topic or from a specific news outlet.\n",
        "Task management: The chatbot can help users manage their to-do lists or calendar by adding, editing, or deleting tasks and events.\n",
        "Personal finance: The chatbot can assist users with tracking their expenses, setting a budget, or making investment decisions.\n",
        "Language translation: The chatbot can translate text from one language to another to facilitate communication between users who speak different languages.\n",
        "Product recommendations: The chatbot can recommend products or services based on user preferences and purchasing history."
      ],
      "metadata": {
        "id": "uwauolsIjMuJ"
      }
    },
    {
      "cell_type": "markdown",
      "source": [
        "Create a chatbot that can converse with users and perform certain tasks based on user input. The chatbot should be able to understand natural language and respond appropriately, and it should be able to perform a variety of functions based on user requests. Here are some potential features the chatbot could have:\n",
        "\n",
        "Weather forecasting: The chatbot can tell users the current weather conditions or provide a forecast for a specific location.\n",
        "News aggregation: The chatbot can provide users with the latest news on a particular topic or from a specific news outlet.\n",
        "Task management: The chatbot can help users manage their to-do lists or calendar by adding, editing, or deleting tasks and events.\n",
        "Personal finance: The chatbot can assist users with tracking their expenses, setting a budget, or making investment decisions.\n",
        "Language translation: The chatbot can translate text from one language to another to facilitate communication between users who speak different languages.\n",
        "Product recommendations: The chatbot can recommend products or services based on user preferences and purchasing history.\n",
        "To implement this project, you will need to use a natural language processing (NLP) library such as NLTK or spaCy to enable the chatbot to understand and respond to user input. You will also need to use API services to fetch data for weather forecasting, news aggregation, and product recommendations. Finally, you will need to implement the chatbot's backend logic to process user requests and perform the appropriate tasks."
      ],
      "metadata": {
        "id": "B3Tj3iOyjiGL"
      }
    },
    {
      "cell_type": "markdown",
      "source": [],
      "metadata": {
        "id": "i6cXEG4Xjnm5"
      }
    },
    {
      "cell_type": "code",
      "source": [
        "import nltk\n",
        "from nltk.chat.util import Chat, reflections\n",
        "import weather_api_module\n",
        "import news_api_module\n",
        "import task_management_module\n",
        "import finance_api_module\n",
        "import translation_api_module\n",
        "import product_recommendation_module\n",
        "\n",
        "# Define chatbot responses\n",
        "pairs = [\n",
        "    # Greetings\n",
        "    (r'hi|hello|hey', ['Hello!', 'Hi there!', 'Hey!']),\n",
        "    (r'how are you?', ['I am doing well, thank you.', 'I am great, thanks for asking.']),\n",
        "    (r'what can you do\\??', ['I can help with a variety of tasks, including weather forecasting, news aggregation, task management, personal finance, language translation, and product recommendations.']),\n",
        "    # Weather forecasting\n",
        "    (r'what is the weather like in (.*)', [weather_api_module.get_weather_forecast]),\n",
        "    (r'what is the temperature in (.*)', [weather_api_module.get_temperature]),\n",
        "    # News aggregation\n",
        "    (r'tell me about the latest news', [news_api_module.get_latest_news]),\n",
        "    (r'tell me about (.*) news', [news_api_module.get_news_by_topic]),\n",
        "    # Task management\n",
        "    (r'add a task to my list', [task_management_module.add_task]),\n",
        "    (r'delete a task from my list', [task_management_module.delete_task]),\n",
        "    (r'edit a task on my list', [task_management_module.edit_task]),\n",
        "    (r'show my tasks', [task_management_module.show_tasks]),\n",
        "    # Personal finance\n",
        "    (r'what is my current balance', [finance_api_module.get_current_balance]),\n",
        "    (r'set a budget of (.*)', [finance_api_module.set_budget]),\n",
        "    (r'what is my spending history', [finance_api_module.get_spending_history]),\n",
        "    (r'make an investment decision', [finance_api_module.make_investment_decision]),\n",
        "    # Language translation\n",
        "    (r'translate (.*) from (.*) to (.*)', [translation_api_module.translate_text]),\n",
        "    # Product recommendations\n",
        "    (r'recommend a product for me', [product_recommendation_module.get_recommendation]),\n",
        "    (r'what products do you recommend based on my history', [product_recommendation_module.get_recommendations_based_on_history]),\n",
        "]\n",
        "\n",
        "# Define chatbot\n",
        "chatbot = Chat(pairs, reflections)\n",
        "\n",
        "# Start conversation with user\n",
        "print(\"Hello, I'm a chatbot. How can I assist you today?\")\n",
        "chatbot.converse()\n"
      ],
      "metadata": {
        "colab": {
          "base_uri": "https://localhost:8080/",
          "height": 374
        },
        "id": "Psva279vjqEL",
        "outputId": "b1a58689-6234-467a-a08f-79853717deff"
      },
      "execution_count": 3,
      "outputs": [
        {
          "output_type": "error",
          "ename": "ModuleNotFoundError",
          "evalue": "ignored",
          "traceback": [
            "\u001b[0;31m---------------------------------------------------------------------------\u001b[0m",
            "\u001b[0;31mModuleNotFoundError\u001b[0m                       Traceback (most recent call last)",
            "\u001b[0;32m<ipython-input-3-85b77e23a182>\u001b[0m in \u001b[0;36m<module>\u001b[0;34m\u001b[0m\n\u001b[1;32m      1\u001b[0m \u001b[0;32mimport\u001b[0m \u001b[0mnltk\u001b[0m\u001b[0;34m\u001b[0m\u001b[0;34m\u001b[0m\u001b[0m\n\u001b[1;32m      2\u001b[0m \u001b[0;32mfrom\u001b[0m \u001b[0mnltk\u001b[0m\u001b[0;34m.\u001b[0m\u001b[0mchat\u001b[0m\u001b[0;34m.\u001b[0m\u001b[0mutil\u001b[0m \u001b[0;32mimport\u001b[0m \u001b[0mChat\u001b[0m\u001b[0;34m,\u001b[0m \u001b[0mreflections\u001b[0m\u001b[0;34m\u001b[0m\u001b[0;34m\u001b[0m\u001b[0m\n\u001b[0;32m----> 3\u001b[0;31m \u001b[0;32mimport\u001b[0m \u001b[0mweather_api_module\u001b[0m\u001b[0;34m\u001b[0m\u001b[0;34m\u001b[0m\u001b[0m\n\u001b[0m\u001b[1;32m      4\u001b[0m \u001b[0;32mimport\u001b[0m \u001b[0mnews_api_module\u001b[0m\u001b[0;34m\u001b[0m\u001b[0;34m\u001b[0m\u001b[0m\n\u001b[1;32m      5\u001b[0m \u001b[0;32mimport\u001b[0m \u001b[0mtask_management_module\u001b[0m\u001b[0;34m\u001b[0m\u001b[0;34m\u001b[0m\u001b[0m\n",
            "\u001b[0;31mModuleNotFoundError\u001b[0m: No module named 'weather_api_module'",
            "",
            "\u001b[0;31m---------------------------------------------------------------------------\u001b[0;32m\nNOTE: If your import is failing due to a missing package, you can\nmanually install dependencies using either !pip or !apt.\n\nTo view examples of installing some common dependencies, click the\n\"Open Examples\" button below.\n\u001b[0;31m---------------------------------------------------------------------------\u001b[0m\n"
          ],
          "errorDetails": {
            "actions": [
              {
                "action": "open_url",
                "actionText": "Open Examples",
                "url": "/notebooks/snippets/importing_libraries.ipynb"
              }
            ]
          }
        }
      ]
    },
    {
      "cell_type": "markdown",
      "source": [
        "The code imports several modules for each of the features mentioned in the prompt, such as weather_api_module, news_api_module, task_management_module, finance_api_module, translation_api_module, and product_recommendation_module. The pairs list defines the chatbot's responses based on regular expressions that match the user's input.\n",
        "\n",
        "To add more complexity to the chatbot, you could include additional features, such as natural language processing to improve the chatbot's ability to understand and respond to user input, or machine learning algorithms to personalize the chatbot's recommendations and responses based on the user's behavior and preferences."
      ],
      "metadata": {
        "id": "ll-X3L92jqu9"
      }
    },
    {
      "cell_type": "markdown",
      "source": [
        "If you run the code, it will create a chatbot program that can understand natural language and perform various functions based on user input. The chatbot will greet the user and ask for their name, and then it will provide a list of possible tasks that the user can request.\n",
        "\n",
        "Once the user makes a request, the chatbot will interpret the input and perform the appropriate task. For example, if the user requests weather information, the chatbot will use an API to fetch the current weather conditions or forecast for a specific location and display the information to the user.\n",
        "\n",
        "Similarly, if the user requests news, the chatbot will fetch the latest news from a specified news outlet or on a particular topic and present it to the user.\n",
        "\n",
        "The chatbot can also help users manage their tasks and events, assist with personal finance, translate text, and make product recommendations based on user preferences. The user can interact with the chatbot through natural language input, and the chatbot will respond with appropriate output based on the task requested."
      ],
      "metadata": {
        "id": "uowdlqOkjvwV"
      }
    },
    {
      "cell_type": "markdown",
      "source": [
        "the input and response are handled directly inside the while loop without calling a separate function. The second code snippet is a more structured way of handling user input and generating a response."
      ],
      "metadata": {
        "id": "l-o3xxryjzcE"
      }
    },
    {
      "cell_type": "markdown",
      "source": [
        "the second one includes a function named process_input which processes user input and returns a response. This function is called inside the while loop to handle the user's input and generate a response based on the input."
      ],
      "metadata": {
        "id": "VIl3RJZmj-Pr"
      }
    },
    {
      "cell_type": "code",
      "source": [
        "import random\n",
        "import datetime\n",
        "import requests\n",
        "import json\n",
        "import os\n",
        "\n",
        "from dotenv import load_dotenv\n",
        "from newsapi import NewsApiClient\n",
        "from openai import ApiError, Configuration, Language, models, util\n",
        "\n",
        "\n",
        "load_dotenv()  # Load environment variables from .env file\n",
        "\n",
        "# Set up OpenAI API credentials\n",
        "openai_key = os.getenv('OPENAI_KEY')\n",
        "configuration = Configuration()\n",
        "configuration.api_key['Authorization'] = f'Bearer {openai_key}'\n",
        "models_api = models.ModelsApi(configuration)\n",
        "\n",
        "# Set up NewsAPI credentials\n",
        "newsapi = NewsApiClient(api_key=os.getenv('NEWSAPI_KEY'))\n",
        "\n",
        "# Set up language translator credentials\n",
        "language_api_key = os.getenv('LANGUAGE_API_KEY')\n",
        "language_client = Language(api_key=language_api_key)\n",
        "\n",
        "\n",
        "def greet():\n",
        "    \"\"\"Function to greet user.\"\"\"\n",
        "    responses = [\"Hi there!\", \"Hello!\", \"Greetings!\", \"Hey!\"]\n",
        "    return random.choice(responses)\n",
        "\n",
        "\n",
        "def get_time():\n",
        "    \"\"\"Function to return current time.\"\"\"\n",
        "    now = datetime.datetime.now()\n",
        "    return f\"The current time is {now.strftime('%I:%M %p')}\"\n",
        "\n",
        "\n",
        "def get_date():\n",
        "    \"\"\"Function to return current date.\"\"\"\n",
        "    now = datetime.datetime.now()\n",
        "    return f\"Today is {now.strftime('%A, %B %d, %Y')}\"\n",
        "\n",
        "\n",
        "def get_weather(location):\n",
        "    \"\"\"Function to retrieve weather information for a given location.\"\"\"\n",
        "    weather_api_key = os.getenv('WEATHER_API_KEY')\n",
        "    url = f\"http://api.openweathermap.org/data/2.5/weather?q={location}&appid={weather_api_key}\"\n",
        "    response = requests.get(url)\n",
        "    data = json.loads(response.text)\n",
        "\n",
        "    if data['cod'] == '404':\n",
        "        return \"Sorry, I couldn't find that location. Please try again.\"\n",
        "    else:\n",
        "        weather = data['weather'][0]['description']\n",
        "        temp = round(data['main']['temp'] - 273.15, 1)\n",
        "        feels_like = round(data['main']['feels_like'] - 273.15, 1)\n",
        "        humidity = data['main']['humidity']\n",
        "        return f\"The weather in {location} is {weather}. The temperature is {temp}°C, and it feels like {feels_like}°C. The humidity is {humidity}%.\"\n",
        "\n",
        "\n",
        "def get_news(topic):\n",
        "    \"\"\"Function to retrieve news articles on a given topic.\"\"\"\n",
        "    top_headlines = newsapi.get_top_headlines(q=topic, language='en', page_size=5)\n",
        "    if top_headlines['totalResults'] == 0:\n",
        "        return \"Sorry, I couldn't find any news articles on that topic. Please try again with a different topic.\"\n",
        "    else:\n",
        "        articles = top_headlines['articles']\n",
        "        output = ''\n",
        "        for article in articles:\n",
        "            output += f\"{article['title']}\\n{article['description']}\\n{article['url']}\\n\\n\"\n",
        "        return output\n",
        "\n",
        "\n",
        "def add_task(task, tasks):\n",
        "    \"\"\"Function to add a task to a list of tasks.\"\"\"\n",
        "    tasks.append(task)\n",
        "    return f\"Task added: {task}\"\n",
        "\n",
        "\n",
        "def edit_task(task_index, new_task, tasks):\n",
        "    \"\"\"Function to edit a task in a list of tasks.\"\"\"\n",
        "    if task_index < 1 or task_index > len(tasks):\n",
        "        return \"Sorry, that task index is invalid. Please try again.\"\n",
        "    else:\n",
        "        tasks[task_index-1] = new_task\n",
        "        return f\"Task {task_index} updated: {new_task}\"\n",
        "\n",
        "\n",
        "def delete_task(task_index, tasks):\n",
        "    \"\"\"Function to delete a task from a list of tasks.\"\"\"\n",
        "    if task_index < 1 or task_index\n"
      ],
      "metadata": {
        "colab": {
          "base_uri": "https://localhost:8080/",
          "height": 131
        },
        "id": "ac6VrfWkkFqA",
        "outputId": "0ea3e7db-bd28-44cb-d834-180f01bd412c"
      },
      "execution_count": 2,
      "outputs": [
        {
          "output_type": "error",
          "ename": "SyntaxError",
          "evalue": "ignored",
          "traceback": [
            "\u001b[0;36m  File \u001b[0;32m\"<ipython-input-2-b2c7c21a8e0d>\"\u001b[0;36m, line \u001b[0;32m93\u001b[0m\n\u001b[0;31m    if task_index < 1 or task_index\u001b[0m\n\u001b[0m                                   ^\u001b[0m\n\u001b[0;31mSyntaxError\u001b[0m\u001b[0;31m:\u001b[0m invalid syntax\n"
          ]
        }
      ]
    }
  ]
}