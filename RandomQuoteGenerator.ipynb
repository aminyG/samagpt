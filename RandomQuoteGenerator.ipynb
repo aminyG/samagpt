{
  "nbformat": 4,
  "nbformat_minor": 0,
  "metadata": {
    "colab": {
      "provenance": [],
      "authorship_tag": "ABX9TyNRCI8v+CNYBH9Q7ixRuk8h",
      "include_colab_link": true
    },
    "kernelspec": {
      "name": "python3",
      "display_name": "Python 3"
    },
    "language_info": {
      "name": "python"
    }
  },
  "cells": [
    {
      "cell_type": "markdown",
      "metadata": {
        "id": "view-in-github",
        "colab_type": "text"
      },
      "source": [
        "<a href=\"https://colab.research.google.com/github/aminyG/samagpt/blob/main/RandomQuoteGenerator.ipynb\" target=\"_parent\"><img src=\"https://colab.research.google.com/assets/colab-badge.svg\" alt=\"Open In Colab\"/></a>"
      ]
    },
    {
      "cell_type": "markdown",
      "source": [
        "Project Title: Random Quote Generator\n",
        "\n",
        "Project Description: A program that generates random quotes from a list of quotes.\n",
        "\n",
        "Project Features:\n",
        "\n",
        "The program will have a list of quotes\n",
        "The program will randomly select a quote from the list and display it to the user\n",
        "The user can request another random quote\n",
        "The user can exit the program"
      ],
      "metadata": {
        "id": "YWXoxXhChKjz"
      }
    },
    {
      "cell_type": "code",
      "execution_count": 1,
      "metadata": {
        "colab": {
          "base_uri": "https://localhost:8080/"
        },
        "id": "JfCVs1M_g6OS",
        "outputId": "c56a581b-0252-4fd8-ecb9-ed791793d8e8"
      },
      "outputs": [
        {
          "name": "stdout",
          "output_type": "stream",
          "text": [
            "Random Quote Generator\n",
            "\n",
            "1. Get a random quote\n",
            "2. Exit\n",
            "\n",
            "Enter your choice (1 or 2): 1\n",
            "\n",
            "Be the change you wish to see in the world. - Mahatma Gandhi\n",
            "\n",
            "Random Quote Generator\n",
            "\n",
            "1. Get a random quote\n",
            "2. Exit\n",
            "\n",
            "Enter your choice (1 or 2): 2\n"
          ]
        }
      ],
      "source": [
        "import random\n",
        "\n",
        "# List of quotes\n",
        "quotes = [\n",
        "    \"Be the change you wish to see in the world. - Mahatma Gandhi\",\n",
        "    \"In three words I can sum up everything I've learned about life: it goes on. - Robert Frost\",\n",
        "    \"The only way to do great work is to love what you do. - Steve Jobs\",\n",
        "    \"You miss 100% of the shots you don't take. - Wayne Gretzky\",\n",
        "    \"I have not failed. I've just found 10,000 ways that won't work. - Thomas Edison\"\n",
        "]\n",
        "\n",
        "# Function to generate a random quote\n",
        "def generate_quote():\n",
        "    return random.choice(quotes)\n",
        "\n",
        "# Main program loop\n",
        "while True:\n",
        "    # Display menu\n",
        "    print(\"Random Quote Generator\\n\")\n",
        "    print(\"1. Get a random quote\")\n",
        "    print(\"2. Exit\")\n",
        "    \n",
        "    # Get user choice\n",
        "    choice = input(\"\\nEnter your choice (1 or 2): \")\n",
        "    \n",
        "    # Generate random quote\n",
        "    if choice == \"1\":\n",
        "        print(\"\\n\" + generate_quote() + \"\\n\")\n",
        "    # Exit program\n",
        "    elif choice == \"2\":\n",
        "        break\n",
        "    # Invalid input\n",
        "    else:\n",
        "        print(\"\\nInvalid choice. Please enter 1 or 2.\\n\")\n"
      ]
    }
  ]
}